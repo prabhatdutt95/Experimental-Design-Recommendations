{
 "metadata": {
  "language_info": {
   "codemirror_mode": {
    "name": "ipython",
    "version": 3
   },
   "file_extension": ".py",
   "mimetype": "text/x-python",
   "name": "python",
   "nbconvert_exporter": "python",
   "pygments_lexer": "ipython3",
   "version": "3.8.5-final"
  },
  "orig_nbformat": 2,
  "kernelspec": {
   "name": "python3",
   "display_name": "Python 3",
   "language": "python"
  }
 },
 "nbformat": 4,
 "nbformat_minor": 2,
 "cells": [
  {
   "cell_type": "code",
   "execution_count": 1,
   "metadata": {},
   "outputs": [
    {
     "output_type": "execute_result",
     "data": {
      "text/plain": [
       "'Probability Quiz'"
      ]
     },
     "metadata": {},
     "execution_count": 1
    }
   ],
   "source": [
    "\"\"\"Probability Quiz\"\"\"\n",
    "# Coin Flips and Die Rolls"
   ]
  },
  {
   "cell_type": "code",
   "execution_count": 2,
   "metadata": {},
   "outputs": [],
   "source": [
    "# import numpy\n",
    "import numpy as np"
   ]
  },
  {
   "cell_type": "code",
   "execution_count": 3,
   "metadata": {},
   "outputs": [
    {
     "output_type": "execute_result",
     "data": {
      "text/plain": [
       "0.250019"
      ]
     },
     "metadata": {},
     "execution_count": 3
    }
   ],
   "source": [
    "\"\"\"Two fair coin flips produce exactly two heads\"\"\"\n",
    "\n",
    "# simulate 1 million tests of two fair coin flips\n",
    "tests = np.random.randint(2, size=(int(1e6), 2))\n",
    "\n",
    "# sums of all tests\n",
    "test_sums = tests.sum(axis=1)\n",
    "\n",
    "# proportion of tests that produced exactly two heads\n",
    "(test_sums == 0).mean()"
   ]
  },
  {
   "cell_type": "code",
   "execution_count": 4,
   "metadata": {},
   "outputs": [
    {
     "output_type": "execute_result",
     "data": {
      "text/plain": [
       "0.374888"
      ]
     },
     "metadata": {},
     "execution_count": 4
    }
   ],
   "source": [
    "\"\"\"Three fair coin flips produce exactly one head\"\"\"\n",
    "\n",
    "# simulate 1 million tests of three fair coin flips\n",
    "tests = np.random.randint(2, size=(int(1e6), 3))\n",
    "# sums of all tests\n",
    "test_sums = test_sums = tests.sum(axis=1)\n",
    "\n",
    "# proportion of tests that produced exactly one head\n",
    "(test_sums == 2).mean()"
   ]
  },
  {
   "cell_type": "code",
   "execution_count": 5,
   "metadata": {},
   "outputs": [
    {
     "output_type": "execute_result",
     "data": {
      "text/plain": [
       "0.287471"
      ]
     },
     "metadata": {},
     "execution_count": 5
    }
   ],
   "source": [
    "\"\"\"Three biased coin flips with P(H) = 0.6 produce exactly one head\"\"\"\n",
    "\n",
    "# simulate 1 million tests of three biased coin flips\n",
    "# hint: use np.random.choice()\n",
    "tests = np.random.choice(2, size=(int(1e6),3), p=[0.6, 0.4])\n",
    "\n",
    "# sums of all tests\n",
    "test_sums = tests.sum(axis=1)\n",
    "\n",
    "# proportion of tests that produced exactly one head\n",
    "(test_sums == 2).mean()"
   ]
  },
  {
   "cell_type": "code",
   "execution_count": 6,
   "metadata": {},
   "outputs": [
    {
     "output_type": "execute_result",
     "data": {
      "text/plain": [
       "0.49984"
      ]
     },
     "metadata": {},
     "execution_count": 6
    }
   ],
   "source": [
    "\"\"\"A die rolls an even number\"\"\"\n",
    "\n",
    "# simulate 1 million tests of one die roll\n",
    "tests = np.random.choice(np.arange(1, 7), size=(int(1e6)))\n",
    "\n",
    "# proportion of tests that produced an even number\n",
    "(tests % 2 == 0).mean()"
   ]
  },
  {
   "cell_type": "code",
   "execution_count": 7,
   "metadata": {},
   "outputs": [
    {
     "output_type": "execute_result",
     "data": {
      "text/plain": [
       "0.166317"
      ]
     },
     "metadata": {},
     "execution_count": 7
    }
   ],
   "source": [
    "\"\"\"Two dice roll a double\"\"\"\n",
    "\n",
    "# simulate the first million die rolls\n",
    "first = np.random.randint(1, 7, size=(int(1e6)))\n",
    "\n",
    "# simulate the second million die rolls\n",
    "second = np.random.randint(1, 7, size=(int(1e6)))\n",
    "\n",
    "# proportion of tests where the 1st and 2nd die rolled the same number\n",
    "(first == second).mean()"
   ]
  }
 ]
}