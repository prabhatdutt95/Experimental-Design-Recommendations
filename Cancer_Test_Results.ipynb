{
 "metadata": {
  "language_info": {
   "codemirror_mode": {
    "name": "ipython",
    "version": 3
   },
   "file_extension": ".py",
   "mimetype": "text/x-python",
   "name": "python",
   "nbconvert_exporter": "python",
   "pygments_lexer": "ipython3",
   "version": "3.8.5-final"
  },
  "orig_nbformat": 2,
  "kernelspec": {
   "name": "python3",
   "display_name": "Python 3",
   "language": "python"
  }
 },
 "nbformat": 4,
 "nbformat_minor": 2,
 "cells": [
  {
   "cell_type": "code",
   "execution_count": 1,
   "metadata": {},
   "outputs": [
    {
     "output_type": "execute_result",
     "data": {
      "text/plain": [
       "   patient_id test_result  has_cancer\n",
       "0       79452    Negative       False\n",
       "1       81667    Positive        True\n",
       "2       76297    Negative       False\n",
       "3       36593    Negative       False"
      ],
      "text/html": "<div>\n<style scoped>\n    .dataframe tbody tr th:only-of-type {\n        vertical-align: middle;\n    }\n\n    .dataframe tbody tr th {\n        vertical-align: top;\n    }\n\n    .dataframe thead th {\n        text-align: right;\n    }\n</style>\n<table border=\"1\" class=\"dataframe\">\n  <thead>\n    <tr style=\"text-align: right;\">\n      <th></th>\n      <th>patient_id</th>\n      <th>test_result</th>\n      <th>has_cancer</th>\n    </tr>\n  </thead>\n  <tbody>\n    <tr>\n      <th>0</th>\n      <td>79452</td>\n      <td>Negative</td>\n      <td>False</td>\n    </tr>\n    <tr>\n      <th>1</th>\n      <td>81667</td>\n      <td>Positive</td>\n      <td>True</td>\n    </tr>\n    <tr>\n      <th>2</th>\n      <td>76297</td>\n      <td>Negative</td>\n      <td>False</td>\n    </tr>\n    <tr>\n      <th>3</th>\n      <td>36593</td>\n      <td>Negative</td>\n      <td>False</td>\n    </tr>\n  </tbody>\n</table>\n</div>"
     },
     "metadata": {},
     "execution_count": 1
    }
   ],
   "source": [
    "\"\"\"\n",
    "Cancer Test Results\n",
    "Using conditional Probability and Bayes rule\n",
    "\"\"\"\n",
    "\n",
    "# load dataset\n",
    "import pandas as pd\n",
    "\n",
    "data = pd.read_csv('./data/cancer_test_data.csv')\n",
    "data.head(4)"
   ]
  },
  {
   "cell_type": "code",
   "execution_count": 2,
   "metadata": {},
   "outputs": [
    {
     "output_type": "stream",
     "name": "stdout",
     "text": [
      "Number of patients is 2914\n"
     ]
    }
   ],
   "source": [
    "# number of patients\n",
    "\n",
    "print(\"Number of patients is {}\".format(data.shape[0]))"
   ]
  },
  {
   "cell_type": "code",
   "execution_count": 3,
   "metadata": {},
   "outputs": [
    {
     "output_type": "stream",
     "name": "stdout",
     "text": [
      "Number of patients with cancer is 306\n"
     ]
    }
   ],
   "source": [
    "# number of patients with cancer\n",
    "\n",
    "print(\"Number of patients with cancer is {}\".format(data.has_cancer.sum()))"
   ]
  },
  {
   "cell_type": "code",
   "execution_count": 4,
   "metadata": {},
   "outputs": [
    {
     "output_type": "stream",
     "name": "stdout",
     "text": [
      "Number of patients without cancer is 2608\n"
     ]
    }
   ],
   "source": [
    "# number of patients without cancer\n",
    "\n",
    "print(\"Number of patients without cancer is {}\".format((data.has_cancer == False).sum()))"
   ]
  },
  {
   "cell_type": "code",
   "execution_count": 5,
   "metadata": {},
   "outputs": [
    {
     "output_type": "stream",
     "name": "stdout",
     "text": [
      "Proportion of patients with cancer is 0.10501029512697323\n"
     ]
    }
   ],
   "source": [
    "# proportion of patients with cancer\n",
    "\n",
    "patient_with_cancer = data.has_cancer.mean()\n",
    "print(\"Proportion of patients with cancer is {}\".format(patient_with_cancer))"
   ]
  },
  {
   "cell_type": "code",
   "execution_count": 6,
   "metadata": {},
   "outputs": [
    {
     "output_type": "stream",
     "name": "stdout",
     "text": [
      "Proportion of patients without cancer is 0.8949897048730268\n"
     ]
    }
   ],
   "source": [
    "# proportion of patients without cancer\n",
    "\n",
    "patient_without_cancer = 1 - data.has_cancer.mean()\n",
    "print(\"Proportion of patients without cancer is {}\".format(patient_without_cancer))"
   ]
  },
  {
   "cell_type": "code",
   "execution_count": 7,
   "metadata": {},
   "outputs": [
    {
     "output_type": "stream",
     "name": "stdout",
     "text": [
      "Proportion of patients with cancer who test positive 0.9052287581699346\n"
     ]
    }
   ],
   "source": [
    "# proportion of patients with cancer who test positive\n",
    "\n",
    "patient_positive_cancer = (data.query('has_cancer == True')['test_result'] == 'Positive').mean()\n",
    "print(\"Proportion of patients with cancer who test positive {}\".format(patient_positive_cancer))"
   ]
  },
  {
   "cell_type": "code",
   "execution_count": 8,
   "metadata": {},
   "outputs": [
    {
     "output_type": "stream",
     "name": "stdout",
     "text": [
      "Proportion of patients with cancer who test negative 0.09477124183006536\n"
     ]
    }
   ],
   "source": [
    "# proportion of patients with cancer who test negative\n",
    "\n",
    "patient_negative_cancer = (data.query('has_cancer == True')['test_result'] == 'Negative').mean()\n",
    "print(\"Proportion of patients with cancer who test negative {}\".format(patient_negative_cancer))"
   ]
  },
  {
   "cell_type": "code",
   "execution_count": 9,
   "metadata": {},
   "outputs": [
    {
     "output_type": "stream",
     "name": "stdout",
     "text": [
      "proportion of patients without cancer who test positive 0.2036042944785276\n"
     ]
    }
   ],
   "source": [
    "# proportion of patients without cancer who test positive\n",
    "\n",
    "patient_positive_without_cancer = (data.query('has_cancer == False')['test_result'] == 'Positive').mean()\n",
    "print(\"proportion of patients without cancer who test positive {}\".format(patient_positive_without_cancer))"
   ]
  },
  {
   "cell_type": "code",
   "execution_count": 10,
   "metadata": {},
   "outputs": [
    {
     "output_type": "stream",
     "name": "stdout",
     "text": [
      "proportion of patients without cancer who test negative 0.7963957055214724\n"
     ]
    }
   ],
   "source": [
    "# proportion of patients without cancer who test negative\n",
    "\n",
    "patient_negative_without_cancer = (data.query('has_cancer == False')['test_result'] == 'Negative').mean()\n",
    "print(\"proportion of patients without cancer who test negative {}\".format(patient_negative_without_cancer))"
   ]
  },
  {
   "cell_type": "code",
   "execution_count": 11,
   "metadata": {},
   "outputs": [
    {
     "output_type": "stream",
     "name": "stdout",
     "text": [
      "Proportion of patients who tested positive is 0.27728208647906655\n"
     ]
    }
   ],
   "source": [
    "patient_positive = (patient_positive_cancer * patient_with_cancer) + (patient_positive_without_cancer * patient_without_cancer)\n",
    "print(\"Proportion of patients who tested positive is {}\".format(patient_positive))"
   ]
  },
  {
   "cell_type": "code",
   "execution_count": 12,
   "metadata": {},
   "outputs": [
    {
     "output_type": "stream",
     "name": "stdout",
     "text": [
      "Proportion of patients who tested positive has cancer is 0.34282178217821785\n"
     ]
    }
   ],
   "source": [
    "# What proportion of patients who tested positive has cancer?\n",
    "\n",
    "patient_cancer_positive = (patient_positive_cancer * patient_with_cancer) / patient_positive\n",
    "print(\"Proportion of patients who tested positive has cancer is {}\".format(patient_cancer_positive))"
   ]
  },
  {
   "cell_type": "code",
   "execution_count": 13,
   "metadata": {},
   "outputs": [
    {
     "output_type": "stream",
     "name": "stdout",
     "text": [
      "Proportion of patients who tested positive doesn't have cancer 0.6571782178217822\n"
     ]
    }
   ],
   "source": [
    "# What proportion of patients who tested positive doesn't have cancer?\n",
    "\n",
    "patient_without_cancer_positive = (patient_positive_without_cancer * patient_without_cancer) / patient_positive\n",
    "print(\"Proportion of patients who tested positive doesn't have cancer {}\".format(patient_without_cancer_positive))"
   ]
  },
  {
   "cell_type": "code",
   "execution_count": 14,
   "metadata": {},
   "outputs": [
    {
     "output_type": "stream",
     "name": "stdout",
     "text": [
      "Proportion of patients who tested negative is 0.7227179135209334\n"
     ]
    }
   ],
   "source": [
    "patient_negative = (patient_negative_cancer * patient_with_cancer) + (patient_negative_without_cancer * patient_without_cancer)\n",
    "print(\"Proportion of patients who tested negative is {}\".format(patient_negative))"
   ]
  },
  {
   "cell_type": "code",
   "execution_count": 15,
   "metadata": {},
   "outputs": [
    {
     "output_type": "stream",
     "name": "stdout",
     "text": [
      "Proportion of patients who tested negative has cancer is 0.013770180436847102\n"
     ]
    }
   ],
   "source": [
    "# What proportion of patients who tested negative has cancer?\n",
    "\n",
    "patient_cancer_negative = (patient_negative_cancer * patient_with_cancer) / patient_negative\n",
    "print(\"Proportion of patients who tested negative has cancer is {}\".format(patient_cancer_negative))"
   ]
  },
  {
   "cell_type": "code",
   "execution_count": 16,
   "metadata": {},
   "outputs": [
    {
     "output_type": "stream",
     "name": "stdout",
     "text": [
      "Proportion of patients who tested positive doesn't have cancer 0.9862298195631529\n"
     ]
    }
   ],
   "source": [
    "# What proportion of patients who tested negative doesn't have cancer?\n",
    "\n",
    "patient_without_cancer_negative = (patient_negative_without_cancer * patient_without_cancer) / patient_negative\n",
    "print(\"Proportion of patients who tested positive doesn't have cancer {}\".format(patient_without_cancer_negative))"
   ]
  }
 ]
}